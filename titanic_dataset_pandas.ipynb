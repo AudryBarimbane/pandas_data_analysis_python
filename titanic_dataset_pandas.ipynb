{
  "nbformat": 4,
  "nbformat_minor": 0,
  "metadata": {
    "colab": {
      "name": "titanic_dataset_pandas",
      "provenance": [],
      "collapsed_sections": [],
      "authorship_tag": "ABX9TyPEwGVvHrrdAbUXjQ3NQVn8",
      "include_colab_link": true
    },
    "kernelspec": {
      "name": "python3",
      "display_name": "Python 3"
    },
    "language_info": {
      "name": "python"
    }
  },
  "cells": [
    {
      "cell_type": "markdown",
      "metadata": {
        "id": "view-in-github",
        "colab_type": "text"
      },
      "source": [
        "<a href=\"https://colab.research.google.com/github/AudryBarimbane/pandas_data_analysis_python/blob/main/titanic_dataset_pandas.ipynb\" target=\"_parent\"><img src=\"https://colab.research.google.com/assets/colab-badge.svg\" alt=\"Open In Colab\"/></a>"
      ]
    },
    {
      "cell_type": "code",
      "metadata": {
        "id": "70YXrdR6RP6A"
      },
      "source": [
        "import numpy as np\n",
        "import matplotlib.pyplot as plt\n",
        "import pandas as pd \n"
      ],
      "execution_count": 11,
      "outputs": []
    },
    {
      "cell_type": "markdown",
      "metadata": {
        "id": "awpwcrbebjNU"
      },
      "source": [
        "**Load data**"
      ]
    },
    {
      "cell_type": "code",
      "metadata": {
        "colab": {
          "base_uri": "https://localhost:8080/"
        },
        "id": "Z48gFcgTaygf",
        "outputId": "c7c838ef-0760-4dd6-ac89-ca1b2ca3d546"
      },
      "source": [
        "!wget https://github.com/MachineLearnia/Python-Machine-Learning/blob/master/Dataset/dataset.csv"
      ],
      "execution_count": 12,
      "outputs": [
        {
          "output_type": "stream",
          "name": "stdout",
          "text": [
            "--2021-09-28 03:36:47--  https://github.com/MachineLearnia/Python-Machine-Learning/blob/master/Dataset/dataset.csv\n",
            "Resolving github.com (github.com)... 140.82.121.3\n",
            "Connecting to github.com (github.com)|140.82.121.3|:443... connected.\n",
            "HTTP request sent, awaiting response... 200 OK\n",
            "Length: unspecified [text/html]\n",
            "Saving to: ‘dataset.csv.1’\n",
            "\n",
            "dataset.csv.1           [ <=>                ] 132.70K  --.-KB/s    in 0.02s   \n",
            "\n",
            "2021-09-28 03:36:47 (5.22 MB/s) - ‘dataset.csv.1’ saved [135885]\n",
            "\n"
          ]
        }
      ]
    },
    {
      "cell_type": "markdown",
      "metadata": {
        "id": "WpzAZWyhbyAv"
      },
      "source": [
        "**Read data**"
      ]
    },
    {
      "cell_type": "code",
      "metadata": {
        "colab": {
          "base_uri": "https://localhost:8080/"
        },
        "id": "7Xn_01cjb1KK",
        "outputId": "693fa61d-3afe-413a-e4ac-3a22add46739"
      },
      "source": [
        "data = pd.read_csv('dataset.csv',error_bad_lines=False)"
      ],
      "execution_count": 16,
      "outputs": [
        {
          "output_type": "stream",
          "name": "stderr",
          "text": [
            "b'Skipping line 111: expected 1 fields, saw 2\\nSkipping line 130: expected 1 fields, saw 352\\nSkipping line 131: expected 1 fields, saw 2\\nSkipping line 146: expected 1 fields, saw 3\\nSkipping line 198: expected 1 fields, saw 3\\nSkipping line 212: expected 1 fields, saw 6\\nSkipping line 249: expected 1 fields, saw 4\\nSkipping line 253: expected 1 fields, saw 2\\nSkipping line 270: expected 1 fields, saw 2\\nSkipping line 271: expected 1 fields, saw 2\\nSkipping line 277: expected 1 fields, saw 2\\nSkipping line 280: expected 1 fields, saw 2\\nSkipping line 288: expected 1 fields, saw 4\\nSkipping line 294: expected 1 fields, saw 2\\nSkipping line 299: expected 1 fields, saw 2\\nSkipping line 300: expected 1 fields, saw 2\\nSkipping line 301: expected 1 fields, saw 2\\nSkipping line 302: expected 1 fields, saw 2\\nSkipping line 303: expected 1 fields, saw 2\\nSkipping line 309: expected 1 fields, saw 2\\nSkipping line 310: expected 1 fields, saw 2\\nSkipping line 311: expected 1 fields, saw 2\\nSkipping line 312: expected 1 fields, saw 2\\nSkipping line 319: expected 1 fields, saw 2\\nSkipping line 327: expected 1 fields, saw 4\\nSkipping line 332: expected 1 fields, saw 2\\nSkipping line 335: expected 1 fields, saw 2\\nSkipping line 336: expected 1 fields, saw 2\\nSkipping line 340: expected 1 fields, saw 2\\nSkipping line 361: expected 1 fields, saw 2\\nSkipping line 560: expected 1 fields, saw 6\\nSkipping line 561: expected 1 fields, saw 3\\nSkipping line 568: expected 1 fields, saw 6\\nSkipping line 569: expected 1 fields, saw 6\\nSkipping line 658: expected 1 fields, saw 6\\nSkipping line 667: expected 1 fields, saw 6\\nSkipping line 682: expected 1 fields, saw 6\\nSkipping line 706: expected 1 fields, saw 3\\nSkipping line 717: expected 1 fields, saw 3\\nSkipping line 728: expected 1 fields, saw 3\\nSkipping line 739: expected 1 fields, saw 3\\nSkipping line 750: expected 1 fields, saw 3\\nSkipping line 761: expected 1 fields, saw 3\\nSkipping line 772: expected 1 fields, saw 3\\nSkipping line 783: expected 1 fields, saw 3\\nSkipping line 1039: expected 1 fields, saw 7\\nSkipping line 1102: expected 1 fields, saw 2\\nSkipping line 1188: expected 1 fields, saw 2\\nSkipping line 1191: expected 1 fields, saw 2\\nSkipping line 1218: expected 1 fields, saw 2\\nSkipping line 1220: expected 1 fields, saw 2\\nSkipping line 1241: expected 1 fields, saw 2\\nSkipping line 1281: expected 1 fields, saw 2\\nSkipping line 1282: expected 1 fields, saw 6\\nSkipping line 1283: expected 1 fields, saw 6\\nSkipping line 1284: expected 1 fields, saw 6\\nSkipping line 1285: expected 1 fields, saw 6\\nSkipping line 1286: expected 1 fields, saw 3\\nSkipping line 1295: expected 1 fields, saw 6\\nSkipping line 1296: expected 1 fields, saw 6\\nSkipping line 1297: expected 1 fields, saw 6\\nSkipping line 1298: expected 1 fields, saw 6\\nSkipping line 1299: expected 1 fields, saw 6\\nSkipping line 1300: expected 1 fields, saw 3\\n'\n"
          ]
        }
      ]
    },
    {
      "cell_type": "markdown",
      "metadata": {
        "id": "qF7nTYkQf-X8"
      },
      "source": [
        "DataFrame dimension"
      ]
    },
    {
      "cell_type": "code",
      "metadata": {
        "colab": {
          "base_uri": "https://localhost:8080/"
        },
        "id": "tNkqQoEUgBQs",
        "outputId": "3662ca94-e422-4790-8f3a-c0ea19fcd6f3"
      },
      "source": [
        "data.shape"
      ],
      "execution_count": 17,
      "outputs": [
        {
          "output_type": "execute_result",
          "data": {
            "text/plain": [
              "(959, 1)"
            ]
          },
          "metadata": {},
          "execution_count": 17
        }
      ]
    },
    {
      "cell_type": "code",
      "metadata": {
        "colab": {
          "base_uri": "https://localhost:8080/",
          "height": 204
        },
        "id": "BuZVBAbEbS4C",
        "outputId": "342fd90d-d937-4de4-9aa6-01f8927b9fc6"
      },
      "source": [
        "data.head()"
      ],
      "execution_count": 19,
      "outputs": [
        {
          "output_type": "execute_result",
          "data": {
            "text/html": [
              "<div>\n",
              "<style scoped>\n",
              "    .dataframe tbody tr th:only-of-type {\n",
              "        vertical-align: middle;\n",
              "    }\n",
              "\n",
              "    .dataframe tbody tr th {\n",
              "        vertical-align: top;\n",
              "    }\n",
              "\n",
              "    .dataframe thead th {\n",
              "        text-align: right;\n",
              "    }\n",
              "</style>\n",
              "<table border=\"1\" class=\"dataframe\">\n",
              "  <thead>\n",
              "    <tr style=\"text-align: right;\">\n",
              "      <th></th>\n",
              "      <th>&lt;!DOCTYPE html&gt;</th>\n",
              "    </tr>\n",
              "  </thead>\n",
              "  <tbody>\n",
              "    <tr>\n",
              "      <th>0</th>\n",
              "      <td>&lt;html lang=\"en\" data-color-mode=\"auto\" data-li...</td>\n",
              "    </tr>\n",
              "    <tr>\n",
              "      <th>1</th>\n",
              "      <td>&lt;head&gt;</td>\n",
              "    </tr>\n",
              "    <tr>\n",
              "      <th>2</th>\n",
              "      <td>&lt;meta charset=\"utf-8\"&gt;</td>\n",
              "    </tr>\n",
              "    <tr>\n",
              "      <th>3</th>\n",
              "      <td>&lt;link rel=\"dns-prefetch\" href=\"https://githu...</td>\n",
              "    </tr>\n",
              "    <tr>\n",
              "      <th>4</th>\n",
              "      <td>&lt;link rel=\"dns-prefetch\" href=\"https://avata...</td>\n",
              "    </tr>\n",
              "  </tbody>\n",
              "</table>\n",
              "</div>"
            ],
            "text/plain": [
              "                                     <!DOCTYPE html>\n",
              "0  <html lang=\"en\" data-color-mode=\"auto\" data-li...\n",
              "1                                             <head>\n",
              "2                             <meta charset=\"utf-8\">\n",
              "3    <link rel=\"dns-prefetch\" href=\"https://githu...\n",
              "4    <link rel=\"dns-prefetch\" href=\"https://avata..."
            ]
          },
          "metadata": {},
          "execution_count": 19
        }
      ]
    }
  ]
}